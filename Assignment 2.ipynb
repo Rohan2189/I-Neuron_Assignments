{
 "cells": [
  {
   "cell_type": "markdown",
   "metadata": {},
   "source": [
    "## Task1:"
   ]
  },
  {
   "cell_type": "markdown",
   "metadata": {},
   "source": [
    "1.1 Write a Python Program to implement your own myreduce() function which works exactly like\n",
    "Python's built-in function reduce()"
   ]
  },
  {
   "cell_type": "code",
   "execution_count": 1,
   "metadata": {},
   "outputs": [],
   "source": [
    "def myreduce(anyfunc, seq):\n",
    "\n",
    " # Get first item in sequence and assign to result\n",
    "  result = seq[0]\n",
    " # iterate over remaining items in sequence and apply reduction function \n",
    "  for i in seq[1:]:\n",
    "        result = anyfunc(result, i)\n",
    "        return result"
   ]
  },
  {
   "cell_type": "code",
   "execution_count": 2,
   "metadata": {},
   "outputs": [
    {
     "name": "stdout",
     "output_type": "stream",
     "text": [
      "Result using custom reduce function 22\n"
     ]
    }
   ],
   "source": [
    "def custom_func(x,y): return (x + y)*2\n",
    "print (\"Result using custom reduce function \"   + str(myreduce(custom_func, [4,7,10])) )"
   ]
  },
  {
   "cell_type": "markdown",
   "metadata": {},
   "source": [
    "1.2 Write a Python program to implement your own myfilter() function which works exactly like\n",
    "Python's built-in function filter()\n"
   ]
  },
  {
   "cell_type": "code",
   "execution_count": 3,
   "metadata": {},
   "outputs": [],
   "source": [
    "# Custom filter function \n",
    "def myfilter(anyfunc, seq):\n",
    "\n",
    " # Initialize empty list\n",
    " result = []\n",
    " # iterate over sequence of items in sequence and apply filter function\n",
    " for i in seq:\n",
    "        if anyfunc(i):\n",
    "            result.append(i)\n",
    "\n",
    " # return funal output\n",
    " return result"
   ]
  },
  {
   "cell_type": "code",
   "execution_count": 4,
   "metadata": {},
   "outputs": [],
   "source": [
    "def iseven(x):\n",
    "    if (x%2 == 0):\n",
    "        return True\n",
    "    else: \n",
    "        return False"
   ]
  },
  {
   "cell_type": "code",
   "execution_count": 5,
   "metadata": {},
   "outputs": [
    {
     "name": "stdout",
     "output_type": "stream",
     "text": [
      "Filter only even numbers on list using custom filter function[0, 2, 4, 6, 8]\n"
     ]
    }
   ],
   "source": [
    "print (\"Filter only even numbers on list using custom filter function\"  + str(myfilter(iseven, [0,2,3,4,5,6,7,8,9])))"
   ]
  },
  {
   "cell_type": "markdown",
   "metadata": {},
   "source": [
    "1.3 Implement List comprehensions to produce the following lists\n",
    "\n",
    "Write List comprehensions to produce the following Lists\n",
    "\n",
    "['A', 'C', 'A', 'D', 'G', 'I', ’L’, ‘ D’]\n",
    "\n",
    "['x', 'xx', 'xxx', 'xxxx', 'y', 'yy', 'yyy', 'yyyy', 'z', 'zz', 'zzz', 'zzzz']\n",
    "\n",
    "['x', 'y', 'z', 'xx', 'yy', 'zz', 'xx', 'yy', 'zz', 'xxxx', 'yyyy', 'zzzz']\n",
    "\n",
    "[[2], [3], [4], [3], [4], [5], [4], [5], [6]]\n",
    "\n",
    "[[2, 3, 4, 5], [3, 4, 5, 6], [4, 5, 6, 7], [5, 6, 7, 8]]\n",
    "\n",
    "[(1, 1), (2, 1), (3, 1), (1, 2), (2, 2), (3, 2), (1, 3), (2, 3), (3, 3)\n"
   ]
  },
  {
   "cell_type": "code",
   "execution_count": 6,
   "metadata": {},
   "outputs": [
    {
     "name": "stdout",
     "output_type": "stream",
     "text": [
      "Letters for the word ACADGILD is ['A', 'C', 'A', 'D', 'G', 'I', 'L', 'D']\n"
     ]
    }
   ],
   "source": [
    "word=\"ACADGILD\"\n",
    "\n",
    "First_pattern=[letters for letters in word]\n",
    "\n",
    "print(\"Letters for the word \"+ word +\" is \" +str(First_pattern))"
   ]
  },
  {
   "cell_type": "code",
   "execution_count": 7,
   "metadata": {},
   "outputs": [
    {
     "name": "stdout",
     "output_type": "stream",
     "text": [
      "The pattern for ['x', 'y', 'z'] is ['x', 'xx', 'xxx', 'xxxx', 'y', 'yy', 'yyy', 'yyyy', 'z', 'zz', 'zzz', 'zzzz']\n"
     ]
    }
   ],
   "source": [
    "letters=['x','y','z']\n",
    "\n",
    "Second_pattern=[i*num for i in letters for num in range(1,5)]\n",
    "\n",
    "print(\"The pattern for \"+str(letters)+ \" is \"+str(Second_pattern))"
   ]
  },
  {
   "cell_type": "code",
   "execution_count": 8,
   "metadata": {},
   "outputs": [
    {
     "name": "stdout",
     "output_type": "stream",
     "text": [
      "The pattern for ['x', 'y', 'z'] is ['x', 'y', 'z', 'xx', 'yy', 'zz', 'xxx', 'yyy', 'zzz', 'xxxx', 'yyyy', 'zzzz']\n"
     ]
    }
   ],
   "source": [
    "Third_pattern=[i*num  for num in range(1,5) for i in letters]\n",
    "\n",
    "print(\"The pattern for \"+str(letters)+ \" is \"+str(Third_pattern))"
   ]
  },
  {
   "cell_type": "code",
   "execution_count": 9,
   "metadata": {},
   "outputs": [
    {
     "name": "stdout",
     "output_type": "stream",
     "text": [
      "The pattern for [2, 3, 4] is [[2], [3], [4], [3], [4], [5], [4], [5], [6]]\n"
     ]
    }
   ],
   "source": [
    "inp=[2,3,4]\n",
    "\n",
    "Fourth_pattern=[[i+num] for i in inp for num in range(0,3)]\n",
    "\n",
    "print(\"The pattern for \"+str(inp)+ \" is \"+str(Fourth_pattern))"
   ]
  },
  {
   "cell_type": "code",
   "execution_count": 10,
   "metadata": {},
   "outputs": [
    {
     "name": "stdout",
     "output_type": "stream",
     "text": [
      "The pattern for [2, 3, 4, 5] is [[2, 3, 4, 5], [3, 4, 5, 6], [4, 5, 6, 7], [5, 6, 7, 8]]\n"
     ]
    }
   ],
   "source": [
    "inp2=[2,3,4,5]\n",
    "\n",
    "Fifth_pattern=[[i+num for i in inp2] for num in range(0,4)]\n",
    "\n",
    "print(\"The pattern for \"+str(inp2)+ \" is \"+str(Fifth_pattern))"
   ]
  },
  {
   "cell_type": "code",
   "execution_count": 11,
   "metadata": {},
   "outputs": [
    {
     "name": "stdout",
     "output_type": "stream",
     "text": [
      "The pattern for [1, 2, 3] is [(1, 1), (2, 1), (3, 1), (1, 2), (2, 2), (3, 2), (1, 3), (2, 3), (3, 3)]\n"
     ]
    }
   ],
   "source": [
    "inp3=[1,2,3]\n",
    "\n",
    "Sixth_pattern=[(b,a) for a in inp3 for b in inp3]\n",
    "\n",
    "print(\"The pattern for \"+str(inp3)+ \" is \"+str(Sixth_pattern))"
   ]
  },
  {
   "cell_type": "markdown",
   "metadata": {},
   "source": [
    "1.4 Implement a function longestWord() that takes a list of words and returns the longest one.\n"
   ]
  },
  {
   "cell_type": "code",
   "execution_count": 12,
   "metadata": {},
   "outputs": [
    {
     "name": "stdout",
     "output_type": "stream",
     "text": [
      "Enter the sentence:The longest word in the sentence is\n"
     ]
    },
    {
     "data": {
      "text/plain": [
       "'sentence'"
      ]
     },
     "execution_count": 12,
     "metadata": {},
     "output_type": "execute_result"
    }
   ],
   "source": [
    "sentence=input(\"Enter the sentence:\")\n",
    "\n",
    "def longestWord(sen):\n",
    "    split=sen.split()\n",
    "    sort = sorted(split, key=len)\n",
    "    longest=sort[-1]\n",
    "    return longest \n",
    "\n",
    "longestWord(sentence)\n",
    "\n",
    "\n"
   ]
  },
  {
   "cell_type": "markdown",
   "metadata": {},
   "source": [
    "## Task2:"
   ]
  },
  {
   "cell_type": "markdown",
   "metadata": {},
   "source": [
    "2.1 Write a Python Program(with class concepts) to find the area of the triangle using the below\n",
    "formula.\n",
    "\n",
    "area = (s*(s-a)*(s-b)*(s-c)) ** 0.5\n",
    "\n",
    "Function to take the length of the sides of triangle from user should be defined in the parent\n",
    "class and function to calculate the area should be defined in subclass.\n"
   ]
  },
  {
   "cell_type": "code",
   "execution_count": 17,
   "metadata": {},
   "outputs": [
    {
     "name": "stdout",
     "output_type": "stream",
     "text": [
      "Enter the value of a = 2\n",
      "Enter the value of b = 3.4\n",
      "Enter the value of c = 4\n",
      "area : 3.40\n"
     ]
    }
   ],
   "source": [
    "class Triangle:\n",
    "    def __init__(self,a,b,c):\n",
    "        self.a=float(a)\n",
    "        self.b=float(b)\n",
    "        self.c=float(c)\n",
    "        \n",
    "    def area(self):\n",
    "        s=(self.a + self.b + self.c)/2\n",
    "        return((s*(s-self.a)*(s-self.b)*(s-self.c))**0.5)\n",
    "    \n",
    "a=input(\"Enter the value of a = \")\n",
    "b=input(\"Enter the value of b = \")\n",
    "c=input(\"Enter the value of c = \")\n",
    "t = Triangle(a, b, c)\n",
    "print(\"area : {:.02f}\".format(t.area()))\n",
    "    "
   ]
  },
  {
   "cell_type": "markdown",
   "metadata": {},
   "source": [
    "2.2 Write a function filter_long_words() that takes a list of words and an integer n and returns the list\n",
    "of words that are longer than n."
   ]
  },
  {
   "cell_type": "code",
   "execution_count": 19,
   "metadata": {},
   "outputs": [
    {
     "name": "stdout",
     "output_type": "stream",
     "text": [
      "Enter words:The words which satisfies minimum length are\n",
      "Enter Min Length:4\n",
      "Words with at least min length: ['words', 'which', 'satisfies', 'minimum', 'length']\n"
     ]
    }
   ],
   "source": [
    "def filter_long_words(l,a):\n",
    "    words=[]\n",
    "    for j in l:\n",
    "        if(len(j)>=a):\n",
    "            words.append(j)\n",
    "    return words\n",
    "\n",
    "n=input(\"Enter words:\").split()\n",
    "na=input(\"Enter Min Length:\")\n",
    "long=filter_long_words(n,int(na))\n",
    "\n",
    "print(\"Words with at least min length:\",long)"
   ]
  },
  {
   "cell_type": "markdown",
   "metadata": {},
   "source": [
    "2.3 Write a Python program using function concept that maps list of words into a list of integers\n",
    "representing the lengths of the corresponding words.\n",
    "\n",
    "Hint: If a list [ ab,cde,erty] is passed on to the python function output should come as [2,3,4]\n",
    "\n",
    "Here 2,3 and 4 are the lengths of the words in the list"
   ]
  },
  {
   "cell_type": "code",
   "execution_count": 63,
   "metadata": {},
   "outputs": [
    {
     "name": "stdout",
     "output_type": "stream",
     "text": [
      "Length of each objects in a list:[2, 3, 4]\n"
     ]
    }
   ],
   "source": [
    "words = ['ab', 'cde', 'erty']\n",
    "lent=[len(x) for x in words]\n",
    "print(\"Length of each objects in a list:\"+ str(lent))"
   ]
  },
  {
   "cell_type": "code",
   "execution_count": 89,
   "metadata": {},
   "outputs": [
    {
     "name": "stdout",
     "output_type": "stream",
     "text": [
      "Enter the sentence: Suyog works in oracle\n",
      "List of wordlength:[5, 5, 2, 6]\n"
     ]
    }
   ],
   "source": [
    "\n",
    "    def word_length(x):\n",
    "        \n",
    "        listOfInts = []\n",
    "        for i in x:\n",
    "            listOfInts.append(len(i))\n",
    "        return listOfInts\n",
    "\n",
    "sent= input(\"Enter the sentence: \").split()\n",
    "\n",
    "   \n",
    "print (\"List of wordlength:\" + str(word_length(sent)))\n",
    "\n"
   ]
  },
  {
   "cell_type": "markdown",
   "metadata": {},
   "source": [
    "2.4 Write a Python function which takes a character (i.e. a string of length 1) and returns True if it is\n",
    "a vowel, False otherwise."
   ]
  },
  {
   "cell_type": "code",
   "execution_count": 68,
   "metadata": {},
   "outputs": [
    {
     "name": "stdout",
     "output_type": "stream",
     "text": [
      "Enter a string:Rohan\n",
      "The list of letters ['R', 'o', 'h', 'a', 'n'] contains vowels is:True\n"
     ]
    }
   ],
   "source": [
    "string=list(input(\"Enter a string:\"))\n",
    "\n",
    "def vowel(vow):\n",
    "    for v in vow:\n",
    "        if v.upper() in ('A','E','I','O','U'):\n",
    "            return True\n",
    "            continue\n",
    "    else:\n",
    "        return False\n",
    "\n",
    "print('The list of letters ' +str(string)+ ' contains vowels is:' +str(vowel(string)))\n",
    "        \n"
   ]
  }
 ],
 "metadata": {
  "kernelspec": {
   "display_name": "Python 3",
   "language": "python",
   "name": "python3"
  },
  "language_info": {
   "codemirror_mode": {
    "name": "ipython",
    "version": 3
   },
   "file_extension": ".py",
   "mimetype": "text/x-python",
   "name": "python",
   "nbconvert_exporter": "python",
   "pygments_lexer": "ipython3",
   "version": "3.7.6"
  }
 },
 "nbformat": 4,
 "nbformat_minor": 4
}
