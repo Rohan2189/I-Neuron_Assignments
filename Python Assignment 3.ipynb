{
 "cells": [
  {
   "cell_type": "markdown",
   "metadata": {},
   "source": [
    "1. Write a Python Program to implement your own myreduce() function which works exactly like Python's built-in function reduce()"
   ]
  },
  {
   "cell_type": "code",
   "execution_count": 1,
   "metadata": {},
   "outputs": [],
   "source": [
    "def myreduce(anyfunc, seq):\n",
    "\n",
    " # Get first item in sequence and assign to result\n",
    "  result = seq[0]\n",
    " # iterate over remaining items in sequence and apply reduction function \n",
    "  for i in seq[1:]:\n",
    "        result = anyfunc(result, i)\n",
    "        return result"
   ]
  },
  {
   "cell_type": "code",
   "execution_count": 2,
   "metadata": {},
   "outputs": [
    {
     "name": "stdout",
     "output_type": "stream",
     "text": [
      "Result using custom reduce function 22\n"
     ]
    }
   ],
   "source": [
    "def custom_func(x,y): return (x + y)*2\n",
    "print (\"Result using custom reduce function \"   + str(myreduce(custom_func, [4,7,10])) )"
   ]
  },
  {
   "cell_type": "markdown",
   "metadata": {},
   "source": [
    "2. Write a Python program to implement your own myfilter() function which works exactly like Python's built-in function filter()"
   ]
  },
  {
   "cell_type": "code",
   "execution_count": 3,
   "metadata": {},
   "outputs": [],
   "source": [
    "# Custom filter function \n",
    "def myfilter(anyfunc, seq):\n",
    "\n",
    " # Initialize empty list\n",
    " result = []\n",
    " # iterate over sequence of items in sequence and apply filter function\n",
    " for i in seq:\n",
    "        if anyfunc(i):\n",
    "            result.append(i)\n",
    "\n",
    " # return funal output\n",
    " return result"
   ]
  },
  {
   "cell_type": "code",
   "execution_count": 4,
   "metadata": {},
   "outputs": [],
   "source": [
    "def iseven(x):\n",
    "    if (x%2 == 0):\n",
    "        return True\n",
    "    else: \n",
    "        return False"
   ]
  },
  {
   "cell_type": "code",
   "execution_count": 5,
   "metadata": {},
   "outputs": [
    {
     "name": "stdout",
     "output_type": "stream",
     "text": [
      "Filter only even numbers on list using custom filter function[0, 2, 4, 6, 8]\n"
     ]
    }
   ],
   "source": [
    "print (\"Filter only even numbers on list using custom filter function\"  + str(myfilter(iseven, [0,2,3,4,5,6,7,8,9])))"
   ]
  },
  {
   "cell_type": "markdown",
   "metadata": {},
   "source": [
    "3.  Implement List comprehensions to produce the following lists\n",
    "\n",
    "Write List comprehensions to produce the following Lists\n",
    "\n",
    "['A', 'C', 'A', 'D', 'G', 'I', ’L’, ‘ D’]\n",
    "\n",
    "['x', 'xx', 'xxx', 'xxxx', 'y', 'yy', 'yyy', 'yyyy', 'z', 'zz', 'zzz', 'zzzz']\n",
    "\n",
    "['x', 'y', 'z', 'xx', 'yy', 'zz', 'xx', 'yy', 'zz', 'xxxx', 'yyyy', 'zzzz']\n",
    "\n",
    "[[2], [3], [4], [3], [4], [5], [4], [5], [6]]\n",
    "\n",
    "[[2, 3, 4, 5], [3, 4, 5, 6], [4, 5, 6, 7], [5, 6, 7, 8]]\n",
    "\n",
    "[(1, 1), (2, 1), (3, 1), (1, 2), (2, 2), (3, 2), (1, 3), (2, 3), (3, 3)"
   ]
  },
  {
   "cell_type": "code",
   "execution_count": 7,
   "metadata": {},
   "outputs": [
    {
     "name": "stdout",
     "output_type": "stream",
     "text": [
      "Letters for the word ACADGILD is ['A', 'C', 'A', 'D', 'G', 'I', 'L', 'D']\n"
     ]
    }
   ],
   "source": [
    "word=\"ACADGILD\"\n",
    "\n",
    "First_pattern=[letters for letters in word]\n",
    "\n",
    "print(\"Letters for the word \"+ word +\" is \" +str(First_pattern))"
   ]
  },
  {
   "cell_type": "code",
   "execution_count": 8,
   "metadata": {},
   "outputs": [
    {
     "name": "stdout",
     "output_type": "stream",
     "text": [
      "The pattern for ['x', 'y', 'z'] is ['x', 'xx', 'xxx', 'xxxx', 'y', 'yy', 'yyy', 'yyyy', 'z', 'zz', 'zzz', 'zzzz']\n"
     ]
    }
   ],
   "source": [
    "letters=['x','y','z']\n",
    "\n",
    "Second_pattern=[i*num for i in letters for num in range(1,5)]\n",
    "\n",
    "print(\"The pattern for \"+str(letters)+ \" is \"+str(Second_pattern))"
   ]
  },
  {
   "cell_type": "code",
   "execution_count": 9,
   "metadata": {},
   "outputs": [
    {
     "name": "stdout",
     "output_type": "stream",
     "text": [
      "The pattern for ['x', 'y', 'z'] is ['x', 'y', 'z', 'xx', 'yy', 'zz', 'xxx', 'yyy', 'zzz', 'xxxx', 'yyyy', 'zzzz']\n"
     ]
    }
   ],
   "source": [
    "Third_pattern=[i*num  for num in range(1,5) for i in letters]\n",
    "\n",
    "print(\"The pattern for \"+str(letters)+ \" is \"+str(Third_pattern))"
   ]
  },
  {
   "cell_type": "code",
   "execution_count": 10,
   "metadata": {},
   "outputs": [
    {
     "name": "stdout",
     "output_type": "stream",
     "text": [
      "The pattern for [2, 3, 4] is [[2], [3], [4], [3], [4], [5], [4], [5], [6]]\n"
     ]
    }
   ],
   "source": [
    "inp=[2,3,4]\n",
    "\n",
    "Fourth_pattern=[[i+num] for i in inp for num in range(0,3)]\n",
    "\n",
    "print(\"The pattern for \"+str(inp)+ \" is \"+str(Fourth_pattern))"
   ]
  },
  {
   "cell_type": "code",
   "execution_count": 11,
   "metadata": {},
   "outputs": [
    {
     "name": "stdout",
     "output_type": "stream",
     "text": [
      "The pattern for [2, 3, 4, 5] is [[2, 3, 4, 5], [3, 4, 5, 6], [4, 5, 6, 7], [5, 6, 7, 8]]\n"
     ]
    }
   ],
   "source": [
    "inp2=[2,3,4,5]\n",
    "\n",
    "Fifth_pattern=[[i+num for i in inp2] for num in range(0,4)]\n",
    "\n",
    "print(\"The pattern for \"+str(inp2)+ \" is \"+str(Fifth_pattern))"
   ]
  },
  {
   "cell_type": "code",
   "execution_count": 12,
   "metadata": {},
   "outputs": [
    {
     "name": "stdout",
     "output_type": "stream",
     "text": [
      "The pattern for [1, 2, 3] is [(1, 1), (2, 1), (3, 1), (1, 2), (2, 2), (3, 2), (1, 3), (2, 3), (3, 3)]\n"
     ]
    }
   ],
   "source": [
    "inp3=[1,2,3]\n",
    "\n",
    "Sixth_pattern=[(b,a) for a in inp3 for b in inp3]\n",
    "\n",
    "print(\"The pattern for \"+str(inp3)+ \" is \"+str(Sixth_pattern))"
   ]
  },
  {
   "cell_type": "code",
   "execution_count": null,
   "metadata": {},
   "outputs": [],
   "source": []
  }
 ],
 "metadata": {
  "kernelspec": {
   "display_name": "Python 3",
   "language": "python",
   "name": "python3"
  },
  "language_info": {
   "codemirror_mode": {
    "name": "ipython",
    "version": 3
   },
   "file_extension": ".py",
   "mimetype": "text/x-python",
   "name": "python",
   "nbconvert_exporter": "python",
   "pygments_lexer": "ipython3",
   "version": "3.7.6"
  }
 },
 "nbformat": 4,
 "nbformat_minor": 4
}
